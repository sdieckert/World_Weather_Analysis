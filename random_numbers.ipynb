{
 "cells": [
  {
   "cell_type": "markdown",
   "id": "eaacd6e9",
   "metadata": {},
   "source": [
    "## Types of random\n",
    "\n",
    "-random.random()\n",
    "\n",
    "-random.randint(-10,10)\n",
    "\n",
    "-random.randrange(-9,9,2)\n",
    "\n",
    "-random.uniform(-10,10)"
   ]
  },
  {
   "cell_type": "code",
   "execution_count": 2,
   "id": "c45294dd",
   "metadata": {},
   "outputs": [],
   "source": [
    "# Import the random module.\n",
    "import random"
   ]
  },
  {
   "cell_type": "code",
   "execution_count": 4,
   "id": "eeb10acf",
   "metadata": {},
   "outputs": [
    {
     "data": {
      "text/plain": [
       "57"
      ]
     },
     "execution_count": 4,
     "metadata": {},
     "output_type": "execute_result"
    }
   ],
   "source": [
    "#randint() Function\n",
    "random.randint(-90,90)"
   ]
  },
  {
   "cell_type": "code",
   "execution_count": 6,
   "id": "579d0aca",
   "metadata": {},
   "outputs": [
    {
     "data": {
      "text/plain": [
       "0.8531676215086011"
      ]
     },
     "execution_count": 6,
     "metadata": {},
     "output_type": "execute_result"
    }
   ],
   "source": [
    "#random() Function\n",
    "random.random()"
   ]
  },
  {
   "cell_type": "code",
   "execution_count": 8,
   "id": "0b98cfd8",
   "metadata": {},
   "outputs": [
    {
     "data": {
      "text/plain": [
       "[-43.11260441696954,\n",
       " 89.18858963453391,\n",
       " 89.4834257051189,\n",
       " 36.79114187632067,\n",
       " -10.571279279639374,\n",
       " 15.422514733914152,\n",
       " 16.200598610849944,\n",
       " -42.03046132821173,\n",
       " 6.97797506487881,\n",
       " -25.698910255368837]"
      ]
     },
     "execution_count": 8,
     "metadata": {},
     "output_type": "execute_result"
    }
   ],
   "source": [
    "x = 1\n",
    "latitudes = []\n",
    "while x < 11:\n",
    "    random_lat = random.randint(-90, 89) + random.random()\n",
    "    latitudes.append(random_lat)\n",
    "    x += 1\n",
    "latitudes"
   ]
  },
  {
   "cell_type": "code",
   "execution_count": 9,
   "id": "693da321",
   "metadata": {},
   "outputs": [
    {
     "data": {
      "text/plain": [
       "36"
      ]
     },
     "execution_count": 9,
     "metadata": {},
     "output_type": "execute_result"
    }
   ],
   "source": [
    "#randrange() Function\n",
    "random.randrange(-90, 90, step=1)"
   ]
  },
  {
   "cell_type": "code",
   "execution_count": 10,
   "id": "be406fde",
   "metadata": {},
   "outputs": [
    {
     "data": {
      "text/plain": [
       "42"
      ]
     },
     "execution_count": 10,
     "metadata": {},
     "output_type": "execute_result"
    }
   ],
   "source": [
    "random.randrange(-90, 90, step=3)"
   ]
  },
  {
   "cell_type": "code",
   "execution_count": 11,
   "id": "98a8f060",
   "metadata": {},
   "outputs": [],
   "source": [
    "#uniform() Function\n"
   ]
  },
  {
   "cell_type": "code",
   "execution_count": 12,
   "id": "3ea352a1",
   "metadata": {},
   "outputs": [
    {
     "data": {
      "text/plain": [
       "89.76582089799007"
      ]
     },
     "execution_count": 12,
     "metadata": {},
     "output_type": "execute_result"
    }
   ],
   "source": [
    "random.uniform(-90, 90)"
   ]
  },
  {
   "cell_type": "code",
   "execution_count": 13,
   "id": "2d3039f7",
   "metadata": {},
   "outputs": [],
   "source": [
    "# Import the NumPy module.\n",
    "import numpy as np"
   ]
  },
  {
   "cell_type": "code",
   "execution_count": 14,
   "id": "c87a3e2a",
   "metadata": {},
   "outputs": [
    {
     "data": {
      "text/plain": [
       "52.45171309220527"
      ]
     },
     "execution_count": 14,
     "metadata": {},
     "output_type": "execute_result"
    }
   ],
   "source": [
    "#run numpy and random together\n",
    "np.random.uniform(-90.000, 90.000)"
   ]
  },
  {
   "cell_type": "code",
   "execution_count": 15,
   "id": "c5683b0a",
   "metadata": {},
   "outputs": [
    {
     "data": {
      "text/plain": [
       "-78.44750398513534"
      ]
     },
     "execution_count": 15,
     "metadata": {},
     "output_type": "execute_result"
    }
   ],
   "source": [
    "#another option\n",
    "np.random.uniform(low=-90, high=90)"
   ]
  },
  {
   "cell_type": "code",
   "execution_count": 16,
   "id": "c9917a33",
   "metadata": {},
   "outputs": [
    {
     "data": {
      "text/plain": [
       "array([ 73.78177706,  -8.93408238, -17.24439153, -53.16739068,\n",
       "       -17.91081889,  55.32561662, -39.1744538 ,  25.31208504,\n",
       "       -62.69565436,  59.48510075,  29.81543264, -89.14722369,\n",
       "        36.31516486,  -9.49144339,  59.39809766, -54.00183699,\n",
       "       -26.41107096,   1.09667182,  74.19544486, -19.49331548,\n",
       "       -53.81538026,  -0.64811658,   7.59668355, -80.0439723 ,\n",
       "       -53.07512556,  39.73067169, -50.54515283,  51.7982454 ,\n",
       "         5.07897313, -82.04990749,  10.47611544,  46.88973938,\n",
       "        -9.23605506,  20.30199439,  65.58868549,  77.23737216,\n",
       "        25.58617421,  88.7690285 ,  -8.65816108, -72.09489697,\n",
       "       -28.99066778,  38.44918981, -23.7963874 ,  76.86144753,\n",
       "       -75.6978415 , -64.45776848, -83.94387582, -41.31255038,\n",
       "       -60.51639264, -63.21152353])"
      ]
     },
     "execution_count": 16,
     "metadata": {},
     "output_type": "execute_result"
    }
   ],
   "source": [
    "np.random.uniform(-90.000, 90.000, size=50)"
   ]
  },
  {
   "cell_type": "code",
   "execution_count": 17,
   "id": "cc85230f",
   "metadata": {},
   "outputs": [],
   "source": [
    "# Import timeit.\n",
    "import timeit"
   ]
  },
  {
   "cell_type": "code",
   "execution_count": 18,
   "id": "a8e5a3ff",
   "metadata": {},
   "outputs": [
    {
     "name": "stdout",
     "output_type": "stream",
     "text": [
      "13.4 µs ± 404 ns per loop (mean ± std. dev. of 7 runs, 100000 loops each)\n"
     ]
    }
   ],
   "source": [
    "%timeit np.random.uniform(-90.000, 90.000, size=1500)"
   ]
  },
  {
   "cell_type": "code",
   "execution_count": 25,
   "id": "bf561a3e",
   "metadata": {},
   "outputs": [
    {
     "name": "stdout",
     "output_type": "stream",
     "text": [
      "<function latitudes at 0x0000022E1A2FCA68>\n"
     ]
    }
   ],
   "source": [
    "    def latitudes(size):\n",
    "    latitudes = []\n",
    "    x = 0\n",
    "    while x < (size):\n",
    "        random_lat = random.randint(-90, 90) + random.random()\n",
    "        latitudes.append(random_lat)\n",
    "        x += 1\n",
    "    return latitudes\n",
    "# Call the function with 1500.\n",
    "#%timeit latitudes(1500)\n",
    "print(latitudes)"
   ]
  },
  {
   "cell_type": "code",
   "execution_count": null,
   "id": "d273e606",
   "metadata": {},
   "outputs": [],
   "source": []
  }
 ],
 "metadata": {
  "kernelspec": {
   "display_name": "PythonData",
   "language": "python",
   "name": "pythondata"
  },
  "language_info": {
   "codemirror_mode": {
    "name": "ipython",
    "version": 3
   },
   "file_extension": ".py",
   "mimetype": "text/x-python",
   "name": "python",
   "nbconvert_exporter": "python",
   "pygments_lexer": "ipython3",
   "version": "3.7.11"
  }
 },
 "nbformat": 4,
 "nbformat_minor": 5
}
